{
  "cells": [
    {
      "metadata": {
        "collapsed": true
      },
      "cell_type": "markdown",
      "source": "# Exercise 1"
    },
    {
      "metadata": {
        "trusted": true
      },
      "cell_type": "code",
      "source": "def test(A, B):\n\n    a = A\n    b = B\n\n    # TODO: Below this comment write your code.\n\n    c = a\n    a = b\n    b = c\n\n    # Leave this line alone as well\n\n    return (a, b)\n\nassert test(3, 5) == (5,3), 'test() should return the tuple (5,3)'",
      "execution_count": 6,
      "outputs": []
    },
    {
      "metadata": {
        "collapsed": true
      },
      "cell_type": "markdown",
      "source": "# Exercise 2"
    },
    {
      "metadata": {
        "trusted": true
      },
      "cell_type": "code",
      "source": "def top_three(scores):\n    scores = scores\n    top_scores = []\n\n    scores.sort()\n    scores.reverse()\n    top_scores.append(scores[0])\n    top_scores.append(scores[1])\n    top_scores.append(scores[2])\n\n\n    # Leave this line alone\n    return top_scores\n\nassert top_three([99, 2, 55, 7, 101, 9]) == [101, 99, 55], 'top_three() should return [101, 99, 55]'",
      "execution_count": 9,
      "outputs": []
    },
    {
      "metadata": {
        "collapsed": true
      },
      "cell_type": "markdown",
      "source": "# Exercise 3"
    },
    {
      "metadata": {
        "trusted": true
      },
      "cell_type": "code",
      "source": "tracker = 0\n\ndef moveForwards():\n    global tracker\n    tracker += 1\n    print('moved forward by one step.')\n\ndef turnRight():\n    global tracker\n    tracker -= 1\n    print('turning right')\n\ndef move():\n\n    moveForwards()\n    turnRight()\n    turnRight()\n    turnRight()\n    moveForwards()\n    turnRight()\n    turnRight()\n    turnRight()\n    moveForwards()\n    turnRight()\n    moveForwards()\n    turnRight()\n    moveForwards()\n    moveForwards()\n    return tracker\n\nmove()",
      "execution_count": 11,
      "outputs": [
        {
          "output_type": "stream",
          "text": "moved forward by one step.\nturning right\nturning right\nturning right\nmoved forward by one step.\nturning right\nturning right\nturning right\nmoved forward by one step.\nturning right\nmoved forward by one step.\nturning right\nmoved forward by one step.\nmoved forward by one step.\n",
          "name": "stdout"
        },
        {
          "output_type": "execute_result",
          "execution_count": 11,
          "data": {
            "text/plain": "-2"
          },
          "metadata": {}
        }
      ]
    },
    {
      "metadata": {
        "collapsed": true
      },
      "cell_type": "markdown",
      "source": "# Exercise 4"
    },
    {
      "metadata": {
        "trusted": true
      },
      "cell_type": "code",
      "source": "# TODO 1: Add two parameters (length_ft and width_ft)\ndef calc_square_meters_from_feet(length_ft, width_ft):\n\n    # TODO 2: Modify the code below:\n    metric_area = 3048 * length_ft * 3048 * width_ft / (1000 * 1000 * 100)\n\n    # Leave the line below as it is\n    return metric_area\n\nassert round(calc_square_meters_from_feet(100, 30), 3) == 278.709, 'calc_square_meters_from_feet() should return approximately 278.709'",
      "execution_count": 13,
      "outputs": []
    },
    {
      "metadata": {
        "collapsed": true
      },
      "cell_type": "markdown",
      "source": "# Exercise 5"
    },
    {
      "metadata": {
        "trusted": true
      },
      "cell_type": "code",
      "source": "# TODO: Write a function called concatenate_lists that has two parameters and returns the combined list.\n\ndef concatenate_lists(list1, list2):\n\n    return list1 + list2\n\nassert concatenate_lists([1, 2], [3, 4]) == [1, 2, 3, 4], 'concatenate_lists() should return [1, 2, 3, 4]'",
      "execution_count": 14,
      "outputs": []
    },
    {
      "metadata": {
        "trusted": true
      },
      "cell_type": "code",
      "source": "",
      "execution_count": null,
      "outputs": []
    }
  ],
  "metadata": {
    "kernelspec": {
      "name": "python36",
      "display_name": "Python 3.6",
      "language": "python"
    },
    "language_info": {
      "mimetype": "text/x-python",
      "nbconvert_exporter": "python",
      "name": "python",
      "pygments_lexer": "ipython3",
      "version": "3.6.6",
      "file_extension": ".py",
      "codemirror_mode": {
        "version": 3,
        "name": "ipython"
      }
    }
  },
  "nbformat": 4,
  "nbformat_minor": 2
}