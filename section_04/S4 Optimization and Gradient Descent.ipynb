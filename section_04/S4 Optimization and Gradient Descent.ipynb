{
 "cells": [
  {
   "cell_type": "markdown",
   "metadata": {},
   "source": [
    "# Section 4 - Optimization and Gradients\n",
    "## Notebook imports and packages"
   ]
  },
  {
   "cell_type": "code",
   "execution_count": null,
   "metadata": {},
   "outputs": [],
   "source": [
    "import matplotlib.pyplot as plt\n",
    "import numpy as np\n",
    "\n",
    "%matplotlib inline"
   ]
  },
  {
   "cell_type": "markdown",
   "metadata": {},
   "source": [
    "## Example 1 - simple cost function\n",
    "\n",
    "### $$f(x) = x^2 + x + 1$$"
   ]
  },
  {
   "cell_type": "code",
   "execution_count": null,
   "metadata": {},
   "outputs": [],
   "source": [
    "def f(x):\n",
    "    return x**2 + x + 1\n",
    "\n",
    "# Make some data\n",
    "x_1 = np.linspace(start = - 3, stop = 3, num = 100)\n",
    "#print(x_1[0:10])\n",
    "\n",
    "plt.xlim([-3, 3])\n",
    "plt.ylim(0,8)\n",
    "plt.xlabel('x', fontsize=16)\n",
    "plt.ylabel('f(x)', fontsize=16)\n",
    "plt.title('Cost Function')\n",
    "plt.grid()\n",
    "plt.plot(x_1, f(x_1))\n",
    "plt.show()"
   ]
  },
  {
   "cell_type": "markdown",
   "metadata": {},
   "source": [
    "## Slope and derivatives"
   ]
  },
  {
   "cell_type": "code",
   "execution_count": null,
   "metadata": {},
   "outputs": [],
   "source": [
    "def df(x):\n",
    "    return 2*x + 1 # by power rule"
   ]
  },
  {
   "cell_type": "code",
   "execution_count": null,
   "metadata": {},
   "outputs": [],
   "source": [
    "plt.figure(figsize = [15, 7])\n",
    "\n",
    "# Plot 1\n",
    "plt.subplot(1, 2, 1)\n",
    "plt.xlim([-3, 3])\n",
    "plt.ylim(0,8)\n",
    "plt.xlabel('x', fontsize=16)\n",
    "plt.ylabel('f(x)', fontsize=16)\n",
    "plt.title('Cost Function')\n",
    "plt.grid()\n",
    "plt.plot(x_1, f(x_1))\n",
    "\n",
    "# Plot 2\n",
    "plt.subplot(1, 2, 2)\n",
    "plt.xlim([-2, 3])\n",
    "plt.ylim(-3,6)\n",
    "plt.xlabel('x', fontsize=16)\n",
    "plt.ylabel('df(x)', fontsize=16)\n",
    "plt.title('Slope / Derivative')\n",
    "plt.grid()\n",
    "plt.plot(x_1, df(x_1), color = \"green\", linewidth = 5, alpha = 0.3)\n",
    "\n",
    "plt.show()"
   ]
  },
  {
   "cell_type": "markdown",
   "metadata": {},
   "source": [
    "## Python loops and gradient descent"
   ]
  },
  {
   "cell_type": "code",
   "execution_count": null,
   "metadata": {},
   "outputs": [],
   "source": [
    "# Gradient descent\n",
    "new_x = 3\n",
    "prev_x = 0\n",
    "learning_rate = 0.1\n",
    "num_steps = 300\n",
    "precision = 0.0001\n",
    "\n",
    "x_values = [new_x]\n",
    "slopes = [df(new_x)]\n",
    "\n",
    "for n in range(num_steps):\n",
    "    prev_x = new_x\n",
    "    gradient = df(prev_x)\n",
    "    new_x = prev_x - (learning_rate * gradient)\n",
    "    step_size = abs(new_x - prev_x)\n",
    "    \n",
    "    x_values.append(new_x)\n",
    "    slopes.append(df(new_x))\n",
    "    if step_size < precision:\n",
    "        print('Breaking at ', n, ' for precision')\n",
    "        break\n",
    "    \n",
    "print('Found local min at: ', new_x)\n",
    "print('df(x) at local min is: ', df(new_x))\n",
    "print('f(x) or cost at local min is :', f(new_x))\n",
    "#print(slopes)"
   ]
  },
  {
   "cell_type": "code",
   "execution_count": null,
   "metadata": {},
   "outputs": [],
   "source": [
    "plt.figure(figsize = [20, 7])\n",
    "\n",
    "# Plot 1\n",
    "plt.subplot(1, 3, 1)\n",
    "plt.xlim([-3, 3])\n",
    "plt.ylim(0,8)\n",
    "plt.xlabel('x', fontsize=16)\n",
    "plt.ylabel('f(x)', fontsize=16)\n",
    "plt.title('Cost Function')\n",
    "plt.grid()\n",
    "plt.plot(x_1, f(x_1), color = 'blue', alpha = 0.5)\n",
    "plt.scatter(x_values, f(np.array(x_values)), color = 'blue', s = 100)\n",
    "\n",
    "# Plot 2\n",
    "plt.subplot(1, 3, 2)\n",
    "plt.xlim([-2, 3])\n",
    "plt.ylim(-3,6)\n",
    "plt.xlabel('x', fontsize=16)\n",
    "plt.ylabel('df(x)', fontsize=16)\n",
    "plt.title('Slope / Derivative')\n",
    "plt.grid()\n",
    "plt.plot(x_1, df(x_1), color = \"green\", linewidth = 5, alpha = 0.3)\n",
    "plt.scatter(x_values, df(np.array(x_values)), color = 'green', s = 100)\n",
    "\n",
    "# Plot 3\n",
    "plt.subplot(1, 3, 3)\n",
    "plt.xlim([-0.65, 0])\n",
    "plt.ylim(-0.3,1)\n",
    "plt.xlabel('x', fontsize=16)\n",
    "plt.ylabel('df(x)', fontsize=16)\n",
    "plt.title('Slope / Derivative (Close Up)')\n",
    "plt.grid()\n",
    "plt.plot(x_1, df(x_1), color = \"green\", linewidth = 5, alpha = 0.3)\n",
    "plt.scatter(x_values, df(np.array(x_values)), color = 'green', s = 100)\n",
    "\n",
    "plt.show()"
   ]
  },
  {
   "cell_type": "markdown",
   "metadata": {},
   "source": [
    "## Example 2 - More advanced cost function\n",
    "\n",
    "### $$g(x) = x^4 - 4x^2 + 5$$"
   ]
  },
  {
   "cell_type": "code",
   "execution_count": null,
   "metadata": {},
   "outputs": [],
   "source": [
    "# Make data\n",
    "x_2 = np.linspace(-2, 2, 1000)\n",
    "\n",
    "def g(x):\n",
    "    return x**4 - 4*x**2 + 5\n",
    "\n",
    "def dg(x):\n",
    "    return 4*x**3 - 8*x"
   ]
  },
  {
   "cell_type": "code",
   "execution_count": null,
   "metadata": {},
   "outputs": [],
   "source": [
    "def h_line(x, y):\n",
    "    return np.repeat(y, x.size)\n",
    "\n",
    "plt.figure(figsize = [15, 7])\n",
    "\n",
    "# Plot 1\n",
    "plt.subplot(1, 2, 1)\n",
    "plt.xlim([-2, 2])\n",
    "plt.ylim(0.5, 5.5)\n",
    "plt.xlabel('x', fontsize=16)\n",
    "plt.ylabel('g(x)', fontsize=16)\n",
    "plt.title('Cost Function')\n",
    "plt.grid()\n",
    "plt.plot(x_2, g(x_2))\n",
    "plt.plot(x_2, h_line(x_2, 5), color = \"red\", linewidth = 3)\n",
    "plt.plot(x_2, h_line(x_2, 1), color = \"red\", linewidth = 3)\n",
    "\n",
    "# Plot 2\n",
    "plt.subplot(1, 2, 2)\n",
    "plt.xlim([-2, 2])\n",
    "plt.ylim(-6,9)\n",
    "plt.xlabel('x', fontsize=16)\n",
    "plt.ylabel('dg(x)', fontsize=16)\n",
    "plt.title('Slope / Derivative')\n",
    "plt.grid()\n",
    "plt.plot(x_2, dg(x_2), color = \"green\", linewidth = 5, alpha = 0.3)\n",
    "plt.plot(x_2, h_line(x_2, 0), color = \"red\", linewidth = 3, alpha = 1.0)\n",
    "\n",
    "plt.show()"
   ]
  },
  {
   "cell_type": "markdown",
   "metadata": {},
   "source": [
    "## Gradient descent as python function"
   ]
  },
  {
   "cell_type": "code",
   "execution_count": null,
   "metadata": {},
   "outputs": [],
   "source": [
    "# Gradient descent function\n",
    "\n",
    "def gd(derivative_func, initial_guess, learning_rate = 0.02, precision = 0.0001, num_steps = 300):\n",
    "    \n",
    "    new_x = initial_guess\n",
    "    x_values = [new_x]\n",
    "    slopes = [derivative_func(new_x)]\n",
    "\n",
    "    for n in range(num_steps):\n",
    "        prev_x = new_x\n",
    "        gradient = derivative_func(prev_x)\n",
    "        new_x = prev_x - (learning_rate * gradient)\n",
    "        step_size = abs(new_x - prev_x)\n",
    "\n",
    "        x_values.append(new_x)\n",
    "        slopes.append(derivative_func(new_x))\n",
    "        if step_size < precision:\n",
    "            print('Breaking at ', n, ' for precision < ', precision)\n",
    "            break\n",
    "            \n",
    "    return new_x, x_values, slopes"
   ]
  },
  {
   "cell_type": "code",
   "execution_count": null,
   "metadata": {},
   "outputs": [],
   "source": [
    "local_min, list_x, deriv_list = gd(dg, initial_guess = -0.1)\n",
    "print('Local min occurs at:', local_min)\n",
    "print('Number of steps: ', len(list_x))"
   ]
  },
  {
   "cell_type": "code",
   "execution_count": null,
   "metadata": {},
   "outputs": [],
   "source": [
    "plt.figure(figsize = [15, 7])\n",
    "\n",
    "# Plot 1\n",
    "plt.subplot(1, 2, 1)\n",
    "plt.xlim([-2, 2])\n",
    "plt.ylim(0.5, 5.5)\n",
    "plt.xlabel('x', fontsize=16)\n",
    "plt.ylabel('g(x)', fontsize=16)\n",
    "plt.title('Cost Function')\n",
    "plt.grid()\n",
    "plt.plot(x_2, g(x_2))\n",
    "#plt.plot(x_2, h_line(x_2, 5), color = \"red\", linewidth = 3)\n",
    "#plt.plot(x_2, h_line(x_2, 1), color = \"red\", linewidth = 3)\n",
    "plt.scatter(list_x, g(np.array(list_x)), color = \"red\", s = 50)\n",
    "\n",
    "# Plot 2\n",
    "plt.subplot(1, 2, 2)\n",
    "plt.xlim([-2, 2])\n",
    "plt.ylim(-6,9)\n",
    "plt.xlabel('x', fontsize=16)\n",
    "plt.ylabel('dg(x)', fontsize=16)\n",
    "plt.title('Slope / Derivative')\n",
    "plt.grid()\n",
    "plt.plot(x_2, dg(x_2), color = \"green\", linewidth = 5, alpha = 0.3)\n",
    "#plt.plot(x_2, h_line(x_2, 0), color = \"red\", linewidth = 3, alpha = 1.0)\n",
    "plt.scatter(list_x, np.array(deriv_list), color = \"green\", s = 50)\n",
    "\n",
    "\n",
    "plt.show()"
   ]
  },
  {
   "cell_type": "code",
   "execution_count": null,
   "metadata": {},
   "outputs": [],
   "source": [
    "local_min, list_x, deriv_list = gd(dg, initial_guess = 0.5)\n",
    "print('Local min occurs at:', local_min)\n",
    "print('Number of steps: ', len(list_x))"
   ]
  },
  {
   "cell_type": "code",
   "execution_count": null,
   "metadata": {},
   "outputs": [],
   "source": [
    "plt.figure(figsize = [15, 7])\n",
    "\n",
    "# Plot 1\n",
    "plt.subplot(1, 2, 1)\n",
    "plt.xlim([-2, 2])\n",
    "plt.ylim(0.5, 5.5)\n",
    "plt.xlabel('x', fontsize=16)\n",
    "plt.ylabel('g(x)', fontsize=16)\n",
    "plt.title('Cost Function')\n",
    "plt.grid()\n",
    "plt.plot(x_2, g(x_2))\n",
    "#plt.plot(x_2, h_line(x_2, 5), color = \"red\", linewidth = 3)\n",
    "#plt.plot(x_2, h_line(x_2, 1), color = \"red\", linewidth = 3)\n",
    "plt.scatter(list_x, g(np.array(list_x)), color = \"red\", s = 50)\n",
    "\n",
    "# Plot 2\n",
    "plt.subplot(1, 2, 2)\n",
    "plt.xlim([-2, 2])\n",
    "plt.ylim(-6,9)\n",
    "plt.xlabel('x', fontsize=16)\n",
    "plt.ylabel('dg(x)', fontsize=16)\n",
    "plt.title('Slope / Derivative')\n",
    "plt.grid()\n",
    "plt.plot(x_2, dg(x_2), color = \"green\", linewidth = 5, alpha = 0.3)\n",
    "#plt.plot(x_2, h_line(x_2, 0), color = \"red\", linewidth = 3, alpha = 1.0)\n",
    "plt.scatter(list_x, np.array(deriv_list), color = \"green\", s = 50)\n",
    "\n",
    "\n",
    "plt.show()"
   ]
  },
  {
   "cell_type": "code",
   "execution_count": null,
   "metadata": {},
   "outputs": [],
   "source": [
    "local_min, list_x, deriv_list = gd(dg, initial_guess = 0)\n",
    "print('Local min occurs at:', local_min)\n",
    "print('Number of steps: ', len(list_x))"
   ]
  },
  {
   "cell_type": "code",
   "execution_count": null,
   "metadata": {},
   "outputs": [],
   "source": [
    "plt.figure(figsize = [15, 7])\n",
    "\n",
    "# Plot 1\n",
    "plt.subplot(1, 2, 1)\n",
    "plt.xlim([-2, 2])\n",
    "plt.ylim(0.5, 5.5)\n",
    "plt.xlabel('x', fontsize=16)\n",
    "plt.ylabel('g(x)', fontsize=16)\n",
    "plt.title('Cost Function')\n",
    "plt.grid()\n",
    "plt.plot(x_2, g(x_2))\n",
    "#plt.plot(x_2, h_line(x_2, 5), color = \"red\", linewidth = 3)\n",
    "#plt.plot(x_2, h_line(x_2, 1), color = \"red\", linewidth = 3)\n",
    "plt.scatter(list_x, g(np.array(list_x)), color = \"red\", s = 50)\n",
    "\n",
    "# Plot 2\n",
    "plt.subplot(1, 2, 2)\n",
    "plt.xlim([-2, 2])\n",
    "plt.ylim(-6,9)\n",
    "plt.xlabel('x', fontsize=16)\n",
    "plt.ylabel('dg(x)', fontsize=16)\n",
    "plt.title('Slope / Derivative')\n",
    "plt.grid()\n",
    "plt.plot(x_2, dg(x_2), color = \"green\", linewidth = 5, alpha = 0.3)\n",
    "#plt.plot(x_2, h_line(x_2, 0), color = \"red\", linewidth = 3, alpha = 1.0)\n",
    "plt.scatter(list_x, np.array(deriv_list), color = \"green\", s = 50)\n",
    "\n",
    "\n",
    "plt.show()"
   ]
  },
  {
   "cell_type": "code",
   "execution_count": null,
   "metadata": {},
   "outputs": [],
   "source": []
  }
 ],
 "metadata": {
  "kernelspec": {
   "display_name": "Python 3",
   "language": "python",
   "name": "python3"
  },
  "language_info": {
   "codemirror_mode": {
    "name": "ipython",
    "version": 3
   },
   "file_extension": ".py",
   "mimetype": "text/x-python",
   "name": "python",
   "nbconvert_exporter": "python",
   "pygments_lexer": "ipython3",
   "version": "3.7.6"
  }
 },
 "nbformat": 4,
 "nbformat_minor": 4
}
